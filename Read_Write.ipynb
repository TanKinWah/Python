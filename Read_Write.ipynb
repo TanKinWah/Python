{
 "cells": [
  {
   "cell_type": "markdown",
   "metadata": {},
   "source": [
    "# Bem vindo ao Workshop - Python\n",
    "\n",
    "### Se é a primeira vez que você usa o Jupyter notebook, seja bem-vindo ao ambiente de codificação.\n",
    "\n",
    "Vamos falar sobre Leitura de dados(txt,csv,json) "
   ]
  },
  {
   "cell_type": "code",
   "execution_count": null,
   "metadata": {},
   "outputs": [],
   "source": [
    "#Leitura de arquivo txt\n",
    "arq = open('C:/Users/KinWah/Downloads/NET.txt','r')\n",
    "for linha in arq:\n",
    "    print(linha)\n",
    "arq.close()"
   ]
  },
  {
   "cell_type": "code",
   "execution_count": null,
   "metadata": {},
   "outputs": [],
   "source": [
    "diretorio= 'C:/Users/KinWah/Downloads/NET.txt'\n",
    "arq = open(diretorio,'r')\n",
    "palavra = input (\"DIGITE A PALAVRA PARA BUSCA:\")\n",
    "contador = 0\n",
    "for linha in arq:\n",
    "    #retirar o /n no final, por causa do print\n",
    "    linha = linha.rstrip()\n",
    "    if palavra in linha:\n",
    "        contador = contador +1\n",
    "        print(linha)\n",
    "\n",
    "print(\"\\n Foram retornadas\", contador, \"linhas\")        \n",
    "arq.close()"
   ]
  },
  {
   "cell_type": "code",
   "execution_count": null,
   "metadata": {},
   "outputs": [],
   "source": [
    "#escrevendo arquivo\n",
    "#certifique de não haver arquivo com mesmo nome, senao ele vai apagar\n",
    "arquivo = open('C:/Users/KinWah/Downloads/NETT.txt', 'w') \n",
    "for x in range(10):\n",
    "    arquivo.write(\"Essa é a linha %d\\r\\n\" % (x+1))\n",
    "        \n",
    "arquivo.close()"
   ]
  },
  {
   "cell_type": "markdown",
   "metadata": {},
   "source": [
    "# Exercicio\n",
    "\n",
    " Pegue as linhas filtradas e escreve em um novo .txt"
   ]
  },
  {
   "cell_type": "code",
   "execution_count": null,
   "metadata": {},
   "outputs": [],
   "source": []
  },
  {
   "cell_type": "code",
   "execution_count": null,
   "metadata": {},
   "outputs": [],
   "source": []
  }
 ],
 "metadata": {
  "kernelspec": {
   "display_name": "Python 3",
   "language": "python",
   "name": "python3"
  },
  "language_info": {
   "codemirror_mode": {
    "name": "ipython",
    "version": 3
   },
   "file_extension": ".py",
   "mimetype": "text/x-python",
   "name": "python",
   "nbconvert_exporter": "python",
   "pygments_lexer": "ipython3",
   "version": "3.7.3"
  }
 },
 "nbformat": 4,
 "nbformat_minor": 2
}
