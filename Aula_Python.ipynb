{
 "cells": [
  {
   "cell_type": "markdown",
   "metadata": {},
   "source": [
    "# Bem vindo ao Workshop - Python\n",
    "\n",
    "### Se é a primeira vez que você usa o Jupyter notebook, seja bem-vindo ao ambiente de codificação.\n",
    "\n",
    "Kernels (também conhecidos como blocos de anotações) são compostos de blocos (chamados \"células\") de texto e código. Cada um deles é editável, embora você principalmente edite as células de código para responder a algumas perguntas.\n",
    "\n",
    "Para começar, tente executar a célula de código abaixo (pressionando o botão ► RUN ou clicando na célula e pressionando ctrl + enter no teclado)."
   ]
  },
  {
   "cell_type": "code",
   "execution_count": null,
   "metadata": {},
   "outputs": [],
   "source": [
    "print (\"Parabéns, tudo pronto para começarmos!!\")"
   ]
  },
  {
   "cell_type": "code",
   "execution_count": null,
   "metadata": {},
   "outputs": [],
   "source": [
    "#inserindo o nome\n",
    "nome = \"Tan\"\n",
    "print(nome)"
   ]
  },
  {
   "cell_type": "code",
   "execution_count": null,
   "metadata": {},
   "outputs": [],
   "source": [
    "#Valor da idade altere como quiser\n",
    "idade = 23\n",
    "idade"
   ]
  },
  {
   "cell_type": "code",
   "execution_count": null,
   "metadata": {},
   "outputs": [],
   "source": [
    "#atribuindo novo valor para a variavel idade\n",
    "idade = idade + 5"
   ]
  },
  {
   "cell_type": "code",
   "execution_count": null,
   "metadata": {},
   "outputs": [],
   "source": [
    "#Criando uma função, chamada de mais_um_ano\n",
    "#idade é a variavel\n",
    "def mais_um_ano(idade):\n",
    "    print(\"Sua idade é\")\n",
    "    return idade + 1"
   ]
  },
  {
   "cell_type": "code",
   "execution_count": null,
   "metadata": {},
   "outputs": [],
   "source": [
    "#chamando a funcao criada na celula anterior\n",
    "mais_um_ano(23)"
   ]
  },
  {
   "cell_type": "code",
   "execution_count": null,
   "metadata": {},
   "outputs": [],
   "source": [
    "filme1= \"Toy story 19\"\n",
    "filme2= \"A xuxa e os baixinhos\"\n",
    "filme3= \"Matrix 1\""
   ]
  },
  {
   "cell_type": "code",
   "execution_count": null,
   "metadata": {},
   "outputs": [],
   "source": [
    "#atribuindo as variaveis na lista \"filmes\"\n",
    "filmes = [filme1, filme2, filme3]\n",
    "filmes"
   ]
  },
  {
   "cell_type": "code",
   "execution_count": null,
   "metadata": {},
   "outputs": [],
   "source": [
    "#inserindo valor manualmente\n",
    "filmes = [\"Toy story 19\", \"Xuxa e os baixinhos\", \"Matrix 1\"]"
   ]
  },
  {
   "cell_type": "code",
   "execution_count": null,
   "metadata": {},
   "outputs": [],
   "source": [
    "#Pegando a posição 1 da lista\n",
    "#Na programacao se inicia em 0\n",
    "filmes[0]"
   ]
  },
  {
   "cell_type": "code",
   "execution_count": null,
   "metadata": {},
   "outputs": [],
   "source": [
    "#funcao imprimir filmes\n",
    "def imprime_filmes(filmes_que_quero_imprimir):\n",
    "    print(\"A lista de filmes que eu tenho disponivel\")\n",
    "    print(filmes_que_quero_imprimir)"
   ]
  },
  {
   "cell_type": "code",
   "execution_count": null,
   "metadata": {},
   "outputs": [],
   "source": [
    "#laço de repetição\n",
    "#x é a variavel, filmes é a lista que quer percorrer\n",
    "for x in filmes:\n",
    "    print(filmes)"
   ]
  },
  {
   "cell_type": "code",
   "execution_count": null,
   "metadata": {},
   "outputs": [],
   "source": [
    "# Reatribuindo na funcao anterior\n",
    "def imprime_filmes(filmes_que_quero_imprimir):\n",
    "    print(\"A lista de filmes que eu tenho disponivel:\")\n",
    "    for x in filmes_que_quero_imprimir:\n",
    "        print(x)"
   ]
  },
  {
   "cell_type": "code",
   "execution_count": null,
   "metadata": {},
   "outputs": [],
   "source": [
    "imprime_filmes(filmes)"
   ]
  },
  {
   "cell_type": "code",
   "execution_count": null,
   "metadata": {},
   "outputs": [],
   "source": [
    "#Estruturas de controle de fluxo\n",
    "#IF, else, elif\n",
    "num = input(\"Digite um numero menor que 100:\")\n",
    "if (num.isdigit()):\n",
    "    if (int(num) > 100):\n",
    "        print(\"Desculpe, mas o valor digitado é maior que 100\")\n",
    "\n",
    "    else:\n",
    "        print(\"O numero digitado é menor que 100\")\n",
    "else:\n",
    "    print(\"Valor digitado é caracter\")"
   ]
  },
  {
   "cell_type": "code",
   "execution_count": null,
   "metadata": {},
   "outputs": [],
   "source": [
    "#Dicionario\n",
    "dados = { \"nome\" : (\"Tan\", \"Vitor\"),\"idade\":(22,21)}"
   ]
  },
  {
   "cell_type": "code",
   "execution_count": null,
   "metadata": {},
   "outputs": [],
   "source": [
    "dados[\"nome\"],dados[\"idade\"]"
   ]
  }
 ],
 "metadata": {
  "kernelspec": {
   "display_name": "Python 3",
   "language": "python",
   "name": "python3"
  },
  "language_info": {
   "codemirror_mode": {
    "name": "ipython",
    "version": 3
   },
   "file_extension": ".py",
   "mimetype": "text/x-python",
   "name": "python",
   "nbconvert_exporter": "python",
   "pygments_lexer": "ipython3",
   "version": "3.7.3"
  }
 },
 "nbformat": 4,
 "nbformat_minor": 2
}
