{
 "cells": [
  {
   "cell_type": "markdown",
   "metadata": {},
   "source": [
    "# Lista de exercico 1\n",
    "exercico 1\n",
    "• Escreva uma função que receba três parâmetros (a, b e c)\n",
    "inteiros e retorne o maior valor entre os argumentos\n",
    "passados"
   ]
  },
  {
   "cell_type": "code",
   "execution_count": 3,
   "metadata": {},
   "outputs": [],
   "source": [
    "def receba(a,b,c):\n",
    "    \n",
    "    if a> b and a>c:\n",
    "        print(a)\n",
    "        return a\n",
    "    elif b>a and b>c:\n",
    "        print(b)\n",
    "        return b\n",
    "    else:\n",
    "        print(c)\n",
    "        return c"
   ]
  },
  {
   "cell_type": "code",
   "execution_count": 4,
   "metadata": {},
   "outputs": [
    {
     "name": "stdout",
     "output_type": "stream",
     "text": [
      "20\n"
     ]
    },
    {
     "data": {
      "text/plain": [
       "20"
      ]
     },
     "execution_count": 4,
     "metadata": {},
     "output_type": "execute_result"
    }
   ],
   "source": [
    "receba(20,10,12)"
   ]
  },
  {
   "cell_type": "code",
   "execution_count": 22,
   "metadata": {},
   "outputs": [
    {
     "name": "stdout",
     "output_type": "stream",
     "text": [
      "14\n"
     ]
    }
   ],
   "source": [
    "assert receba(-3,14,11) ==14"
   ]
  },
  {
   "cell_type": "markdown",
   "metadata": {},
   "source": [
    "# Exercico 2\n",
    "\n",
    "Escreva uma função que receba uma lista de números e\n",
    "retorne uma tupla com duas listas, a primeira contendo\n",
    "todos os numeros pares e a segunda contendo todos os\n",
    "numeros impares ordenados"
   ]
  },
  {
   "cell_type": "code",
   "execution_count": 53,
   "metadata": {},
   "outputs": [],
   "source": [
    "def even_odd(numbers):\n",
    "    numbers.sort()\n",
    "    odd = []\n",
    "    even= []\n",
    "\n",
    "    for n in numbers:\n",
    "        if n % 2 == 0:\n",
    "            even.append(n)\n",
    "    \n",
    "        else:\n",
    "            odd.append(n)\n",
    "        \n",
    "    return (even, odd)\n"
   ]
  },
  {
   "cell_type": "code",
   "execution_count": 54,
   "metadata": {},
   "outputs": [
    {
     "data": {
      "text/plain": [
       "([2, 4, 6], [5])"
      ]
     },
     "execution_count": 54,
     "metadata": {},
     "output_type": "execute_result"
    }
   ],
   "source": [
    "even_odd([2,4,5,6])"
   ]
  },
  {
   "cell_type": "markdown",
   "metadata": {},
   "source": [
    "# exercico 3\n",
    "Escreva uma função que receba dois valores inteiros\n",
    "positivos, e retorne a soma da sequencia numérica inteira\n",
    "entre o primeiro e o segundo parâmetros, inclusive"
   ]
  },
  {
   "cell_type": "code",
   "execution_count": 120,
   "metadata": {},
   "outputs": [],
   "source": [
    "def somavalor(a,b):\n",
    "    soma = 0;\n",
    "    if a > b:\n",
    "        x, y = y, x\n",
    "        \n",
    "    for i in range(a, b + 1):\n",
    "        soma = soma + i           \n",
    "    \n",
    "    return soma; "
   ]
  },
  {
   "cell_type": "code",
   "execution_count": 121,
   "metadata": {},
   "outputs": [
    {
     "data": {
      "text/plain": [
       "9"
      ]
     },
     "execution_count": 121,
     "metadata": {},
     "output_type": "execute_result"
    }
   ],
   "source": [
    "somavalor(4,5)"
   ]
  },
  {
   "cell_type": "code",
   "execution_count": 122,
   "metadata": {},
   "outputs": [],
   "source": [
    "def fatoriall(a):\n",
    "    fat=1\n",
    "    i=2\n",
    "    while i <=a:\n",
    "        fat = fat*i\n",
    "        i=i+1\n",
    "    return fat"
   ]
  },
  {
   "cell_type": "code",
   "execution_count": 125,
   "metadata": {},
   "outputs": [
    {
     "data": {
      "text/plain": [
       "6"
      ]
     },
     "execution_count": 125,
     "metadata": {},
     "output_type": "execute_result"
    }
   ],
   "source": [
    "fatoriall(3)"
   ]
  },
  {
   "cell_type": "code",
   "execution_count": 148,
   "metadata": {},
   "outputs": [],
   "source": [
    "def fatorialf(a):\n",
    "    fat=1\n",
    "    i=2\n",
    "    if a <0:\n",
    "        return 'invalid argument'\n",
    "    if a <2:\n",
    "        for i in range(i, a +1):\n",
    "            fat = fat*i\n",
    "    \n",
    "        return fat"
   ]
  },
  {
   "cell_type": "code",
   "execution_count": 149,
   "metadata": {},
   "outputs": [],
   "source": [
    "fatorialf(3)"
   ]
  },
  {
   "cell_type": "code",
   "execution_count": null,
   "metadata": {},
   "outputs": [],
   "source": []
  }
 ],
 "metadata": {
  "kernelspec": {
   "display_name": "Python 3",
   "language": "python",
   "name": "python3"
  },
  "language_info": {
   "codemirror_mode": {
    "name": "ipython",
    "version": 3
   },
   "file_extension": ".py",
   "mimetype": "text/x-python",
   "name": "python",
   "nbconvert_exporter": "python",
   "pygments_lexer": "ipython3",
   "version": "3.7.1"
  }
 },
 "nbformat": 4,
 "nbformat_minor": 2
}
